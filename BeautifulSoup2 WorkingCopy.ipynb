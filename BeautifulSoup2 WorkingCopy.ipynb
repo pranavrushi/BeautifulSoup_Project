{
 "cells": [
  {
   "cell_type": "code",
   "execution_count": 10,
   "metadata": {},
   "outputs": [],
   "source": [
    "html = '<!DOCTYPE html>\\\n",
    "<html>\\\n",
    "<head>\\\n",
    "    <title>PrepInsta Website</title>\\\n",
    "</head>\\\n",
    "<body>\\\n",
    "    <h1 class=\"mainHead\">Welcome to PrepInsta</h1>\\\n",
    "    <p>This is a great website for us to prepare</p>\\\n",
    "    <h2 class=\"features\">Overview</h2>\\\n",
    "    <p id=\"overview-text\">What can you do on PrepInsta Website-</p>\\\n",
    "    <p class=\"features\">You can Learn Skills</p>\\\n",
    "    <p class=\"features\">You can Learn Coding</p>\\\n",
    "    <p class=\"features\">You can Learn Languages</p>\\\n",
    "    <p class=\"features\" id = \"Apti\">You can Learn Aptitiude</p>\\\n",
    "    <p class=\"features certification\">You can get Certifications</p>\\\n",
    "    <h2>Certifications</h2>\\\n",
    "    <p class=\"features job\">You can get a High Paying Job</p>\\\n",
    "    <p class=\"features\" id=\"special-text\">PrepInsta offers you the opportunity to learn without limits all the Upskilling Courses, Placement Preparation &  Certification Courses with Single Subscription</p>\\\n",
    "    <a id=\"linkweb\" href=\"https://www.PrepInstaPrime.com\">Visit PrepInstaPrime.com!</a>\\\n",
    "    <a href=\"https://prepinstaprime.com/purchase\">Purchase Prime</a>\\\n",
    "    <a href=\"http://prepinstaprime.com/syllabus/tcs-nqt-syllabus\">TCS NQT Course</a>\\\n",
    "    <a href=\"http://prepinstaprime.com/syllabus/machine-learning-and-aritifical-intelligence-syllabus\">ML Course</a>\\\n",
    "</body>\\\n",
    "</html>'"
   ]
  },
  {
   "cell_type": "code",
   "execution_count": 11,
   "metadata": {},
   "outputs": [
    {
     "name": "stdout",
     "output_type": "stream",
     "text": [
      "Collecting BeautifulSoup\n",
      "  Using cached BeautifulSoup-3.2.2.tar.gz (32 kB)\n",
      "  Installing build dependencies: started\n",
      "  Installing build dependencies: finished with status 'done'\n",
      "  Getting requirements to build wheel: started\n",
      "  Getting requirements to build wheel: finished with status 'error'\n",
      "Note: you may need to restart the kernel to use updated packages.\n"
     ]
    },
    {
     "name": "stderr",
     "output_type": "stream",
     "text": [
      "  error: subprocess-exited-with-error\n",
      "  \n",
      "  × Getting requirements to build wheel did not run successfully.\n",
      "  │ exit code: 1\n",
      "  ╰─> [23 lines of output]\n",
      "      Traceback (most recent call last):\n",
      "        File \"c:\\Users\\thamm\\AppData\\Local\\Programs\\Python\\Python311\\Lib\\site-packages\\pip\\_vendor\\pyproject_hooks\\_in_process\\_in_process.py\", line 353, in <module>\n",
      "          main()\n",
      "        File \"c:\\Users\\thamm\\AppData\\Local\\Programs\\Python\\Python311\\Lib\\site-packages\\pip\\_vendor\\pyproject_hooks\\_in_process\\_in_process.py\", line 335, in main\n",
      "          json_out['return_val'] = hook(**hook_input['kwargs'])\n",
      "                                   ^^^^^^^^^^^^^^^^^^^^^^^^^^^^\n",
      "        File \"c:\\Users\\thamm\\AppData\\Local\\Programs\\Python\\Python311\\Lib\\site-packages\\pip\\_vendor\\pyproject_hooks\\_in_process\\_in_process.py\", line 118, in get_requires_for_build_wheel\n",
      "          return hook(config_settings)\n",
      "                 ^^^^^^^^^^^^^^^^^^^^^\n",
      "        File \"C:\\Users\\thamm\\AppData\\Local\\Temp\\pip-build-env-8agzs55w\\overlay\\Lib\\site-packages\\setuptools\\build_meta.py\", line 341, in get_requires_for_build_wheel\n",
      "          return self._get_build_requires(config_settings, requirements=['wheel'])\n",
      "                 ^^^^^^^^^^^^^^^^^^^^^^^^^^^^^^^^^^^^^^^^^^^^^^^^^^^^^^^^^^^^^^^^^\n",
      "        File \"C:\\Users\\thamm\\AppData\\Local\\Temp\\pip-build-env-8agzs55w\\overlay\\Lib\\site-packages\\setuptools\\build_meta.py\", line 323, in _get_build_requires\n",
      "          self.run_setup()\n",
      "        File \"C:\\Users\\thamm\\AppData\\Local\\Temp\\pip-build-env-8agzs55w\\overlay\\Lib\\site-packages\\setuptools\\build_meta.py\", line 488, in run_setup\n",
      "          self).run_setup(setup_script=setup_script)\n",
      "                ^^^^^^^^^^^^^^^^^^^^^^^^^^^^^^^^^^^^\n",
      "        File \"C:\\Users\\thamm\\AppData\\Local\\Temp\\pip-build-env-8agzs55w\\overlay\\Lib\\site-packages\\setuptools\\build_meta.py\", line 338, in run_setup\n",
      "          exec(code, locals())\n",
      "        File \"<string>\", line 3\n",
      "          \"You're trying to run a very old release of Beautiful Soup under Python 3. This will not work.\"<>\"Please use Beautiful Soup 4, available through the pip package 'beautifulsoup4'.\"\n",
      "                                                                                                         ^^\n",
      "      SyntaxError: invalid syntax\n",
      "      [end of output]\n",
      "  \n",
      "  note: This error originates from a subprocess, and is likely not a problem with pip.\n",
      "error: subprocess-exited-with-error\n",
      "\n",
      "× Getting requirements to build wheel did not run successfully.\n",
      "│ exit code: 1\n",
      "╰─> See above for output.\n",
      "\n",
      "note: This error originates from a subprocess, and is likely not a problem with pip.\n"
     ]
    }
   ],
   "source": [
    "\n",
    "pip install BeautifulSoup\n"
   ]
  },
  {
   "cell_type": "code",
   "execution_count": 12,
   "metadata": {},
   "outputs": [],
   "source": [
    "from bs4 import BeautifulSoup"
   ]
  },
  {
   "cell_type": "code",
   "execution_count": 13,
   "metadata": {},
   "outputs": [
    {
     "data": {
      "text/plain": [
       "<!DOCTYPE html>\n",
       "<html><head> <title>PrepInsta Website</title></head><body> <h1 class=\"mainHead\">Welcome to PrepInsta</h1> <p>This is a great website for us to prepare</p> <h2 class=\"features\">Overview</h2> <p id=\"overview-text\">What can you do on PrepInsta Website-</p> <p class=\"features\">You can Learn Skills</p> <p class=\"features\">You can Learn Coding</p> <p class=\"features\">You can Learn Languages</p> <p class=\"features\" id=\"Apti\">You can Learn Aptitiude</p> <p class=\"features certification\">You can get Certifications</p> <h2>Certifications</h2> <p class=\"features job\">You can get a High Paying Job</p> <p class=\"features\" id=\"special-text\">PrepInsta offers you the opportunity to learn without limits all the Upskilling Courses, Placement Preparation &amp;  Certification Courses with Single Subscription</p> <a href=\"https://www.PrepInstaPrime.com\" id=\"linkweb\">Visit PrepInstaPrime.com!</a> <a href=\"https://prepinstaprime.com/purchase\">Purchase Prime</a> <a href=\"http://prepinstaprime.com/syllabus/tcs-nqt-syllabus\">TCS NQT Course</a> <a href=\"http://prepinstaprime.com/syllabus/machine-learning-and-aritifical-intelligence-syllabus\">ML Course</a></body></html>"
      ]
     },
     "execution_count": 13,
     "metadata": {},
     "output_type": "execute_result"
    }
   ],
   "source": [
    "data = BeautifulSoup(html, 'html.parser')\n",
    "data"
   ]
  },
  {
   "cell_type": "code",
   "execution_count": 14,
   "metadata": {},
   "outputs": [
    {
     "name": "stdout",
     "output_type": "stream",
     "text": [
      "<!DOCTYPE html>\n",
      "<html>\n",
      " <head>\n",
      "  <title>\n",
      "   PrepInsta Website\n",
      "  </title>\n",
      " </head>\n",
      " <body>\n",
      "  <h1 class=\"mainHead\">\n",
      "   Welcome to PrepInsta\n",
      "  </h1>\n",
      "  <p>\n",
      "   This is a great website for us to prepare\n",
      "  </p>\n",
      "  <h2 class=\"features\">\n",
      "   Overview\n",
      "  </h2>\n",
      "  <p id=\"overview-text\">\n",
      "   What can you do on PrepInsta Website-\n",
      "  </p>\n",
      "  <p class=\"features\">\n",
      "   You can Learn Skills\n",
      "  </p>\n",
      "  <p class=\"features\">\n",
      "   You can Learn Coding\n",
      "  </p>\n",
      "  <p class=\"features\">\n",
      "   You can Learn Languages\n",
      "  </p>\n",
      "  <p class=\"features\" id=\"Apti\">\n",
      "   You can Learn Aptitiude\n",
      "  </p>\n",
      "  <p class=\"features certification\">\n",
      "   You can get Certifications\n",
      "  </p>\n",
      "  <h2>\n",
      "   Certifications\n",
      "  </h2>\n",
      "  <p class=\"features job\">\n",
      "   You can get a High Paying Job\n",
      "  </p>\n",
      "  <p class=\"features\" id=\"special-text\">\n",
      "   PrepInsta offers you the opportunity to learn without limits all the Upskilling Courses, Placement Preparation &amp;  Certification Courses with Single Subscription\n",
      "  </p>\n",
      "  <a href=\"https://www.PrepInstaPrime.com\" id=\"linkweb\">\n",
      "   Visit PrepInstaPrime.com!\n",
      "  </a>\n",
      "  <a href=\"https://prepinstaprime.com/purchase\">\n",
      "   Purchase Prime\n",
      "  </a>\n",
      "  <a href=\"http://prepinstaprime.com/syllabus/tcs-nqt-syllabus\">\n",
      "   TCS NQT Course\n",
      "  </a>\n",
      "  <a href=\"http://prepinstaprime.com/syllabus/machine-learning-and-aritifical-intelligence-syllabus\">\n",
      "   ML Course\n",
      "  </a>\n",
      " </body>\n",
      "</html>\n",
      "\n"
     ]
    }
   ],
   "source": [
    "print(data.prettify())"
   ]
  },
  {
   "cell_type": "code",
   "execution_count": 15,
   "metadata": {},
   "outputs": [
    {
     "data": {
      "text/plain": [
       "<p>This is a great website for us to prepare</p>"
      ]
     },
     "execution_count": 15,
     "metadata": {},
     "output_type": "execute_result"
    }
   ],
   "source": [
    "data.p"
   ]
  },
  {
   "cell_type": "code",
   "execution_count": 16,
   "metadata": {},
   "outputs": [
    {
     "data": {
      "text/plain": [
       "<p>This is a great website for us to prepare</p>"
      ]
     },
     "execution_count": 16,
     "metadata": {},
     "output_type": "execute_result"
    }
   ],
   "source": [
    "data.find('p')"
   ]
  },
  {
   "cell_type": "code",
   "execution_count": 17,
   "metadata": {},
   "outputs": [
    {
     "data": {
      "text/plain": [
       "[<p>This is a great website for us to prepare</p>,\n",
       " <p id=\"overview-text\">What can you do on PrepInsta Website-</p>,\n",
       " <p class=\"features\">You can Learn Skills</p>,\n",
       " <p class=\"features\">You can Learn Coding</p>,\n",
       " <p class=\"features\">You can Learn Languages</p>,\n",
       " <p class=\"features\" id=\"Apti\">You can Learn Aptitiude</p>,\n",
       " <p class=\"features certification\">You can get Certifications</p>,\n",
       " <p class=\"features job\">You can get a High Paying Job</p>,\n",
       " <p class=\"features\" id=\"special-text\">PrepInsta offers you the opportunity to learn without limits all the Upskilling Courses, Placement Preparation &amp;  Certification Courses with Single Subscription</p>]"
      ]
     },
     "execution_count": 17,
     "metadata": {},
     "output_type": "execute_result"
    }
   ],
   "source": [
    "#returns in list format\n",
    "data.find_all('p')"
   ]
  },
  {
   "cell_type": "code",
   "execution_count": 34,
   "metadata": {},
   "outputs": [
    {
     "name": "stdout",
     "output_type": "stream",
     "text": [
      "Para  0 : This is a great website for us to prepare\n",
      "Para  1 : What can you do on PrepInsta Website-\n",
      "Para  2 : You can Learn Skills\n",
      "Para  3 : You can Learn Coding\n",
      "Para  4 : You can Learn Languages\n",
      "Para  5 : You can Learn Aptitiude\n",
      "Para  6 : You can get Certifications\n",
      "Para  7 : You can get a High Paying Job\n",
      "Para  8 : PrepInsta offers you the opportunity to learn without limits all the Upskilling Courses, Placement Preparation &  Certification Courses with Single Subscription\n"
     ]
    }
   ],
   "source": [
    "para_list = data.find_all('p')\n",
    "\n",
    "for para in para_list:\n",
    "    print(\"Para\" + \"  \"+ str(para_list.index(para)) + \" : \" + str(para.string))"
   ]
  },
  {
   "cell_type": "code",
   "execution_count": 19,
   "metadata": {},
   "outputs": [
    {
     "data": {
      "text/plain": [
       "[<p>This is a great website for us to prepare</p>,\n",
       " <h2 class=\"features\">Overview</h2>,\n",
       " <p id=\"overview-text\">What can you do on PrepInsta Website-</p>,\n",
       " <p class=\"features\">You can Learn Skills</p>,\n",
       " <p class=\"features\">You can Learn Coding</p>,\n",
       " <p class=\"features\">You can Learn Languages</p>,\n",
       " <p class=\"features\" id=\"Apti\">You can Learn Aptitiude</p>,\n",
       " <p class=\"features certification\">You can get Certifications</p>,\n",
       " <h2>Certifications</h2>,\n",
       " <p class=\"features job\">You can get a High Paying Job</p>,\n",
       " <p class=\"features\" id=\"special-text\">PrepInsta offers you the opportunity to learn without limits all the Upskilling Courses, Placement Preparation &amp;  Certification Courses with Single Subscription</p>,\n",
       " <a href=\"https://www.PrepInstaPrime.com\" id=\"linkweb\">Visit PrepInstaPrime.com!</a>,\n",
       " <a href=\"https://prepinstaprime.com/purchase\">Purchase Prime</a>,\n",
       " <a href=\"http://prepinstaprime.com/syllabus/tcs-nqt-syllabus\">TCS NQT Course</a>,\n",
       " <a href=\"http://prepinstaprime.com/syllabus/machine-learning-and-aritifical-intelligence-syllabus\">ML Course</a>]"
      ]
     },
     "execution_count": 19,
     "metadata": {},
     "output_type": "execute_result"
    }
   ],
   "source": [
    "#returns in order of occurance\n",
    "data.find_all(['p', 'h2', 'a'])"
   ]
  },
  {
   "cell_type": "code",
   "execution_count": 20,
   "metadata": {},
   "outputs": [
    {
     "name": "stdout",
     "output_type": "stream",
     "text": [
      "{'h1', 'p', 'title', 'h2', 'html', 'head', 'body', 'a'}\n"
     ]
    }
   ],
   "source": [
    "all_data_list = data.find_all(True)\n",
    "#tag_list = {} will not create set but create empty dictionary\n",
    "# as set looks like {1,2,3,4} and dict looks like {1:\"val1\", 2: 'val2' .....}\n",
    "# by default takes dictionary\n",
    "\n",
    "tag_list = set()\n",
    "\n",
    "for tag_data in all_data_list:\n",
    "    if tag_data.name not in tag_list:\n",
    "        tag_list.add(tag_data.name)\n",
    "        \n",
    "print(tag_list)"
   ]
  },
  {
   "cell_type": "code",
   "execution_count": 21,
   "metadata": {},
   "outputs": [
    {
     "data": {
      "text/plain": [
       "[<h2 class=\"features\">Overview</h2>,\n",
       " <p class=\"features\">You can Learn Skills</p>,\n",
       " <p class=\"features\">You can Learn Coding</p>,\n",
       " <p class=\"features\">You can Learn Languages</p>,\n",
       " <p class=\"features\" id=\"Apti\">You can Learn Aptitiude</p>,\n",
       " <p class=\"features certification\">You can get Certifications</p>,\n",
       " <p class=\"features job\">You can get a High Paying Job</p>,\n",
       " <p class=\"features\" id=\"special-text\">PrepInsta offers you the opportunity to learn without limits all the Upskilling Courses, Placement Preparation &amp;  Certification Courses with Single Subscription</p>]"
      ]
     },
     "execution_count": 21,
     "metadata": {},
     "output_type": "execute_result"
    }
   ],
   "source": [
    "data.find_all(class_ = 'features')"
   ]
  },
  {
   "cell_type": "code",
   "execution_count": 22,
   "metadata": {},
   "outputs": [
    {
     "data": {
      "text/plain": [
       "[<p class=\"features certification\">You can get Certifications</p>]"
      ]
     },
     "execution_count": 22,
     "metadata": {},
     "output_type": "execute_result"
    }
   ],
   "source": [
    "data.find_all(class_ = 'certification')"
   ]
  },
  {
   "cell_type": "code",
   "execution_count": 23,
   "metadata": {},
   "outputs": [
    {
     "data": {
      "text/plain": [
       "[<p class=\"features job\">You can get a High Paying Job</p>]"
      ]
     },
     "execution_count": 23,
     "metadata": {},
     "output_type": "execute_result"
    }
   ],
   "source": [
    "data.find_all(class_ = 'job')"
   ]
  },
  {
   "cell_type": "code",
   "execution_count": 24,
   "metadata": {},
   "outputs": [
    {
     "data": {
      "text/plain": [
       "[<h2 class=\"features\">Overview</h2>]"
      ]
     },
     "execution_count": 24,
     "metadata": {},
     "output_type": "execute_result"
    }
   ],
   "source": [
    "data.find_all('h2', class_ = 'features')"
   ]
  },
  {
   "cell_type": "code",
   "execution_count": 25,
   "metadata": {},
   "outputs": [
    {
     "data": {
      "text/plain": [
       "[<p class=\"features\">You can Learn Skills</p>,\n",
       " <p class=\"features\">You can Learn Coding</p>,\n",
       " <p class=\"features\">You can Learn Languages</p>,\n",
       " <p class=\"features\" id=\"Apti\">You can Learn Aptitiude</p>,\n",
       " <p class=\"features certification\">You can get Certifications</p>,\n",
       " <p class=\"features job\">You can get a High Paying Job</p>,\n",
       " <p class=\"features\" id=\"special-text\">PrepInsta offers you the opportunity to learn without limits all the Upskilling Courses, Placement Preparation &amp;  Certification Courses with Single Subscription</p>]"
      ]
     },
     "execution_count": 25,
     "metadata": {},
     "output_type": "execute_result"
    }
   ],
   "source": [
    "data.find_all('p', class_ = 'features')"
   ]
  },
  {
   "cell_type": "code",
   "execution_count": 26,
   "metadata": {},
   "outputs": [
    {
     "data": {
      "text/plain": [
       "[<p class=\"features\" id=\"Apti\">You can Learn Aptitiude</p>]"
      ]
     },
     "execution_count": 26,
     "metadata": {},
     "output_type": "execute_result"
    }
   ],
   "source": [
    "data.find_all(id = 'Apti')"
   ]
  },
  {
   "cell_type": "code",
   "execution_count": 27,
   "metadata": {},
   "outputs": [
    {
     "data": {
      "text/plain": [
       "[<p class=\"features\">You can Learn Skills</p>,\n",
       " <p class=\"features\">You can Learn Coding</p>]"
      ]
     },
     "execution_count": 27,
     "metadata": {},
     "output_type": "execute_result"
    }
   ],
   "source": [
    "data.find_all('p', class_ = 'features', limit = 2)"
   ]
  },
  {
   "cell_type": "code",
   "execution_count": 28,
   "metadata": {},
   "outputs": [
    {
     "data": {
      "text/plain": [
       "[<a href=\"https://www.PrepInstaPrime.com\" id=\"linkweb\">Visit PrepInstaPrime.com!</a>]"
      ]
     },
     "execution_count": 28,
     "metadata": {},
     "output_type": "execute_result"
    }
   ],
   "source": [
    "data.find_all(href = 'https://www.PrepInstaPrime.com')\n",
    "# below wont work\n",
    "# data.find_all(href=\"www.PrepInstaPrime.com\")"
   ]
  },
  {
   "cell_type": "code",
   "execution_count": 29,
   "metadata": {},
   "outputs": [
    {
     "data": {
      "text/plain": [
       "[<a href=\"https://prepinstaprime.com/purchase\">Purchase Prime</a>,\n",
       " <a href=\"http://prepinstaprime.com/syllabus/tcs-nqt-syllabus\">TCS NQT Course</a>,\n",
       " <a href=\"http://prepinstaprime.com/syllabus/machine-learning-and-aritifical-intelligence-syllabus\">ML Course</a>]"
      ]
     },
     "execution_count": 29,
     "metadata": {},
     "output_type": "execute_result"
    }
   ],
   "source": [
    "import re\n",
    "\n",
    "data.find_all(href = re.compile(\"prep\"))\n",
    "#wont work below\n",
    "#data.find_all(href=re.compile(\"prep\"))"
   ]
  },
  {
   "cell_type": "code",
   "execution_count": 30,
   "metadata": {},
   "outputs": [
    {
     "data": {
      "text/plain": [
       "[<a href=\"https://www.PrepInstaPrime.com\" id=\"linkweb\">Visit PrepInstaPrime.com!</a>]"
      ]
     },
     "execution_count": 30,
     "metadata": {},
     "output_type": "execute_result"
    }
   ],
   "source": [
    "data.find_all(href = re.compile('www'))"
   ]
  },
  {
   "cell_type": "code",
   "execution_count": null,
   "metadata": {},
   "outputs": [],
   "source": []
  },
  {
   "cell_type": "code",
   "execution_count": 31,
   "metadata": {},
   "outputs": [
    {
     "data": {
      "text/plain": [
       "[<p class=\"features\">You can Learn Skills</p>,\n",
       " <p class=\"features\">You can Learn Coding</p>,\n",
       " <p class=\"features\">You can Learn Languages</p>]"
      ]
     },
     "execution_count": 31,
     "metadata": {},
     "output_type": "execute_result"
    }
   ],
   "source": [
    "# string=[\"You can Learn Coding\", \"You can Learn Skills\", \"You can Learn Languages\"]\n",
    "data.find_all('p', string=[\"You can Learn Coding\", \"You can Learn Skills\", \"You can Learn Languages\"])"
   ]
  },
  {
   "cell_type": "code",
   "execution_count": 32,
   "metadata": {},
   "outputs": [
    {
     "data": {
      "text/plain": [
       "[<p class=\"features\">You can Learn Skills</p>,\n",
       " <p class=\"features\">You can Learn Coding</p>,\n",
       " <p class=\"features\">You can Learn Languages</p>,\n",
       " <p class=\"features\" id=\"Apti\">You can Learn Aptitiude</p>]"
      ]
     },
     "execution_count": 32,
     "metadata": {},
     "output_type": "execute_result"
    }
   ],
   "source": [
    "data.find_all('p', string = re.compile(\"Learn\"))"
   ]
  },
  {
   "cell_type": "code",
   "execution_count": 33,
   "metadata": {},
   "outputs": [
    {
     "name": "stdout",
     "output_type": "stream",
     "text": [
      "This is a great website for us to prepare\n",
      "What can you do on PrepInsta Website-\n",
      "You can Learn Skills\n",
      "You can Learn Coding\n",
      "You can Learn Languages\n",
      "You can Learn Aptitiude\n",
      "You can get Certifications\n",
      "You can get a High Paying Job\n",
      "PrepInsta offers you the opportunity to learn without limits all the Upskilling Courses, Placement Preparation &  Certification Courses with Single Subscription\n"
     ]
    }
   ],
   "source": [
    "mylist = data.find_all('p')\n",
    "\n",
    "for item in mylist:\n",
    "    print(item.string)"
   ]
  },
  {
   "cell_type": "code",
   "execution_count": 35,
   "metadata": {},
   "outputs": [
    {
     "name": "stdout",
     "output_type": "stream",
     "text": [
      "Visit PrepInstaPrime.com!\n",
      "Purchase Prime\n",
      "TCS NQT Course\n",
      "ML Course\n"
     ]
    }
   ],
   "source": [
    "mylist = data.find_all('a')\n",
    "\n",
    "for item in mylist:\n",
    "    print(item.string)"
   ]
  }
 ],
 "metadata": {
  "kernelspec": {
   "display_name": "Python 3",
   "language": "python",
   "name": "python3"
  },
  "language_info": {
   "codemirror_mode": {
    "name": "ipython",
    "version": 3
   },
   "file_extension": ".py",
   "mimetype": "text/x-python",
   "name": "python",
   "nbconvert_exporter": "python",
   "pygments_lexer": "ipython3",
   "version": "3.11.4"
  }
 },
 "nbformat": 4,
 "nbformat_minor": 4
}
